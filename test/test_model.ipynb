{
 "cells": [
  {
   "cell_type": "code",
   "execution_count": null,
   "id": "d6c9dc10",
   "metadata": {},
   "outputs": [],
   "source": [
    "import unittest\n",
    "from src.model_training import train_stacking_model\n",
    "\n",
    "class TestModelTraining(unittest.TestCase):\n",
    "    def test_stacking_model(self):\n",
    "        # Example test to check if model trains without errors\n",
    "        model = train_stacking_model()\n",
    "        self.assertIsNotNone(model)\n",
    "\n",
    "if __name__ == '__main__':\n",
    "    unittest.main()\n"
   ]
  }
 ],
 "metadata": {
  "kernelspec": {
   "display_name": "Python 3 (ipykernel)",
   "language": "python",
   "name": "python3"
  },
  "language_info": {
   "codemirror_mode": {
    "name": "ipython",
    "version": 3
   },
   "file_extension": ".py",
   "mimetype": "text/x-python",
   "name": "python",
   "nbconvert_exporter": "python",
   "pygments_lexer": "ipython3",
   "version": "3.10.9"
  }
 },
 "nbformat": 4,
 "nbformat_minor": 5
}
